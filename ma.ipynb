{
 "cells": [
  {
   "cell_type": "code",
   "execution_count": 1,
   "id": "da2a78a1-9f46-4c50-913e-d1ca88bc1a27",
   "metadata": {},
   "outputs": [],
   "source": [
    "import pandas as pd\n",
    "import matplotlib.pyplot as plt\n",
    "import numpy as np\n",
    "%matplotlib inline"
   ]
  },
  {
   "cell_type": "code",
   "execution_count": 38,
   "id": "efb6bb39-a064-4554-9a8d-59eb8bd99df1",
   "metadata": {},
   "outputs": [],
   "source": [
    "df1 = pd.read_excel('B-Squared Workbook.xlsx',sheet_name='B-Squared DCF',skiprows=1,usecols='B:L')\n",
    "ebitda = df1.iloc[38]\n",
    "total_FCFF = df1.iloc[26]\n",
    "ni= df1.iloc[21]\n",
    "years=np.arange(2020,2030,1)"
   ]
  },
  {
   "cell_type": "code",
   "execution_count": 34,
   "id": "0b97d694-cfdb-47cf-bbc0-921d75a1ed64",
   "metadata": {},
   "outputs": [
    {
     "data": {
      "text/plain": [
       "<BarContainer object of 10 artists>"
      ]
     },
     "execution_count": 34,
     "metadata": {},
     "output_type": "execute_result"
    },
    {
     "data": {
      "image/png": "[encoded data removed]",
      "text/plain": [
       "<Figure size 640x480 with 1 Axes>"
      ]
     },
     "metadata": {},
     "output_type": "display_data"
    }
   ],
   "source": [
    "plt.bar(years,ebitda[1:])"
   ]
  },
  {
   "cell_type": "code",
   "execution_count": 37,
   "id": "51542896-56ef-4c61-9140-29b183b0366c",
   "metadata": {},
   "outputs": [
    {
     "data": {
      "text/html": [
       "<div>\n",
       "<style scoped>\n",
       "    .dataframe tbody tr th:only-of-type {\n",
       "        vertical-align: middle;\n",
       "    }\n",
       "\n",
       "    .dataframe tbody tr th {\n",
       "        vertical-align: top;\n",
       "    }\n",
       "\n",
       "    .dataframe thead th {\n",
       "        text-align: right;\n",
       "    }\n",
       "</style>\n",
       "<table border=\"1\" class=\"dataframe\">\n",
       "  <thead>\n",
       "    <tr style=\"text-align: right;\">\n",
       "      <th></th>\n",
       "      <th>$ in thousands USD</th>\n",
       "      <th>2020</th>\n",
       "      <th>2021</th>\n",
       "      <th>2022</th>\n",
       "      <th>2023</th>\n",
       "      <th>2024</th>\n",
       "      <th>2025</th>\n",
       "      <th>2026</th>\n",
       "      <th>2027</th>\n",
       "      <th>2028</th>\n",
       "      <th>2029</th>\n",
       "    </tr>\n",
       "  </thead>\n",
       "  <tbody>\n",
       "    <tr>\n",
       "      <th>0</th>\n",
       "      <td>NaN</td>\n",
       "      <td>Actual</td>\n",
       "      <td>Actual</td>\n",
       "      <td>Actual</td>\n",
       "      <td>Actual</td>\n",
       "      <td>Actual</td>\n",
       "      <td>Projected</td>\n",
       "      <td>Projected</td>\n",
       "      <td>Projected</td>\n",
       "      <td>Projected</td>\n",
       "      <td>Projected</td>\n",
       "    </tr>\n",
       "    <tr>\n",
       "      <th>1</th>\n",
       "      <td>Revenue</td>\n",
       "      <td>35007.5</td>\n",
       "      <td>37108</td>\n",
       "      <td>39594.2</td>\n",
       "      <td>42761.7</td>\n",
       "      <td>44686</td>\n",
       "      <td>50048.32</td>\n",
       "      <td>55553.6352</td>\n",
       "      <td>61664.535072</td>\n",
       "      <td>67830.988579</td>\n",
       "      <td>73935.777551</td>\n",
       "    </tr>\n",
       "    <tr>\n",
       "      <th>2</th>\n",
       "      <td>% Growth</td>\n",
       "      <td>0.125</td>\n",
       "      <td>0.060001</td>\n",
       "      <td>0.066999</td>\n",
       "      <td>0.079999</td>\n",
       "      <td>0.045001</td>\n",
       "      <td>0.12</td>\n",
       "      <td>0.11</td>\n",
       "      <td>0.11</td>\n",
       "      <td>0.1</td>\n",
       "      <td>0.09</td>\n",
       "    </tr>\n",
       "    <tr>\n",
       "      <th>3</th>\n",
       "      <td>COGS</td>\n",
       "      <td>23104.9</td>\n",
       "      <td>24231.5</td>\n",
       "      <td>25379.9</td>\n",
       "      <td>27752.3</td>\n",
       "      <td>28777.8</td>\n",
       "      <td>31079.1</td>\n",
       "      <td>32943.8</td>\n",
       "      <td>34920.5</td>\n",
       "      <td>36666.5</td>\n",
       "      <td>38133.2</td>\n",
       "    </tr>\n",
       "    <tr>\n",
       "      <th>4</th>\n",
       "      <td>COGS %</td>\n",
       "      <td>0.659999</td>\n",
       "      <td>0.652999</td>\n",
       "      <td>0.641</td>\n",
       "      <td>0.648999</td>\n",
       "      <td>0.644</td>\n",
       "      <td>0.620982</td>\n",
       "      <td>0.593009</td>\n",
       "      <td>0.566298</td>\n",
       "      <td>0.540557</td>\n",
       "      <td>0.515761</td>\n",
       "    </tr>\n",
       "    <tr>\n",
       "      <th>5</th>\n",
       "      <td>NaN</td>\n",
       "      <td>NaN</td>\n",
       "      <td>NaN</td>\n",
       "      <td>NaN</td>\n",
       "      <td>NaN</td>\n",
       "      <td>NaN</td>\n",
       "      <td>NaN</td>\n",
       "      <td>NaN</td>\n",
       "      <td>NaN</td>\n",
       "      <td>NaN</td>\n",
       "      <td>NaN</td>\n",
       "    </tr>\n",
       "    <tr>\n",
       "      <th>6</th>\n",
       "      <td>Gross Profit</td>\n",
       "      <td>11902.6</td>\n",
       "      <td>12876.5</td>\n",
       "      <td>14214.3</td>\n",
       "      <td>15009.4</td>\n",
       "      <td>15908.2</td>\n",
       "      <td>18969.22</td>\n",
       "      <td>22609.8352</td>\n",
       "      <td>26744.035072</td>\n",
       "      <td>31164.488579</td>\n",
       "      <td>35802.577551</td>\n",
       "    </tr>\n",
       "    <tr>\n",
       "      <th>7</th>\n",
       "      <td>Gross Margin</td>\n",
       "      <td>0.340001</td>\n",
       "      <td>0.347001</td>\n",
       "      <td>0.359</td>\n",
       "      <td>0.351001</td>\n",
       "      <td>0.356</td>\n",
       "      <td>0.38</td>\n",
       "      <td>0.38</td>\n",
       "      <td>0.38</td>\n",
       "      <td>0.38</td>\n",
       "      <td>0.38</td>\n",
       "    </tr>\n",
       "    <tr>\n",
       "      <th>8</th>\n",
       "      <td>NaN</td>\n",
       "      <td>NaN</td>\n",
       "      <td>NaN</td>\n",
       "      <td>NaN</td>\n",
       "      <td>NaN</td>\n",
       "      <td>NaN</td>\n",
       "      <td>NaN</td>\n",
       "      <td>NaN</td>\n",
       "      <td>NaN</td>\n",
       "      <td>NaN</td>\n",
       "      <td>NaN</td>\n",
       "    </tr>\n",
       "    <tr>\n",
       "      <th>9</th>\n",
       "      <td>Operating Expense</td>\n",
       "      <td>4200.9</td>\n",
       "      <td>4304.5</td>\n",
       "      <td>4632.5</td>\n",
       "      <td>4661</td>\n",
       "      <td>4647.3</td>\n",
       "      <td>3972.7</td>\n",
       "      <td>4220.3</td>\n",
       "      <td>4479.8</td>\n",
       "      <td>4697.4</td>\n",
       "      <td>4866.6</td>\n",
       "    </tr>\n",
       "    <tr>\n",
       "      <th>10</th>\n",
       "      <td>Op. Expenses % of Revenue</td>\n",
       "      <td>0.12</td>\n",
       "      <td>0.115999</td>\n",
       "      <td>0.116999</td>\n",
       "      <td>0.108999</td>\n",
       "      <td>0.103999</td>\n",
       "      <td>0.079377</td>\n",
       "      <td>0.075968</td>\n",
       "      <td>0.072648</td>\n",
       "      <td>0.069252</td>\n",
       "      <td>0.065822</td>\n",
       "    </tr>\n",
       "    <tr>\n",
       "      <th>11</th>\n",
       "      <td>NaN</td>\n",
       "      <td>NaN</td>\n",
       "      <td>NaN</td>\n",
       "      <td>NaN</td>\n",
       "      <td>NaN</td>\n",
       "      <td>NaN</td>\n",
       "      <td>NaN</td>\n",
       "      <td>NaN</td>\n",
       "      <td>NaN</td>\n",
       "      <td>NaN</td>\n",
       "      <td>NaN</td>\n",
       "    </tr>\n",
       "    <tr>\n",
       "      <th>12</th>\n",
       "      <td>Depreciation &amp; Amortization</td>\n",
       "      <td>455.1</td>\n",
       "      <td>593.7</td>\n",
       "      <td>593.9</td>\n",
       "      <td>641.4</td>\n",
       "      <td>670.3</td>\n",
       "      <td>717.2</td>\n",
       "      <td>760.2</td>\n",
       "      <td>805.9</td>\n",
       "      <td>846.2</td>\n",
       "      <td>880</td>\n",
       "    </tr>\n",
       "    <tr>\n",
       "      <th>13</th>\n",
       "      <td>% of Revenue</td>\n",
       "      <td>0.013</td>\n",
       "      <td>0.015999</td>\n",
       "      <td>0.015</td>\n",
       "      <td>0.014999</td>\n",
       "      <td>0.015</td>\n",
       "      <td>0.01433</td>\n",
       "      <td>0.013684</td>\n",
       "      <td>0.013069</td>\n",
       "      <td>0.012475</td>\n",
       "      <td>0.011902</td>\n",
       "    </tr>\n",
       "    <tr>\n",
       "      <th>14</th>\n",
       "      <td>NaN</td>\n",
       "      <td>NaN</td>\n",
       "      <td>NaN</td>\n",
       "      <td>NaN</td>\n",
       "      <td>NaN</td>\n",
       "      <td>NaN</td>\n",
       "      <td>NaN</td>\n",
       "      <td>NaN</td>\n",
       "      <td>NaN</td>\n",
       "      <td>NaN</td>\n",
       "      <td>NaN</td>\n",
       "    </tr>\n",
       "    <tr>\n",
       "      <th>15</th>\n",
       "      <td>Operating Income (EBIT)</td>\n",
       "      <td>7246.6</td>\n",
       "      <td>7978.3</td>\n",
       "      <td>8987.9</td>\n",
       "      <td>9707.0</td>\n",
       "      <td>10590.6</td>\n",
       "      <td>14279.32</td>\n",
       "      <td>17629.3352</td>\n",
       "      <td>21458.335072</td>\n",
       "      <td>25620.888579</td>\n",
       "      <td>30055.977551</td>\n",
       "    </tr>\n",
       "    <tr>\n",
       "      <th>16</th>\n",
       "      <td>Operating Margin</td>\n",
       "      <td>0.207001</td>\n",
       "      <td>0.215002</td>\n",
       "      <td>0.227</td>\n",
       "      <td>0.227002</td>\n",
       "      <td>0.237</td>\n",
       "      <td>0.285311</td>\n",
       "      <td>0.317339</td>\n",
       "      <td>0.347985</td>\n",
       "      <td>0.377717</td>\n",
       "      <td>0.406515</td>\n",
       "    </tr>\n",
       "    <tr>\n",
       "      <th>17</th>\n",
       "      <td>NaN</td>\n",
       "      <td>NaN</td>\n",
       "      <td>NaN</td>\n",
       "      <td>NaN</td>\n",
       "      <td>NaN</td>\n",
       "      <td>NaN</td>\n",
       "      <td>NaN</td>\n",
       "      <td>NaN</td>\n",
       "      <td>NaN</td>\n",
       "      <td>NaN</td>\n",
       "      <td>NaN</td>\n",
       "    </tr>\n",
       "    <tr>\n",
       "      <th>18</th>\n",
       "      <td>Interest Expense, Net</td>\n",
       "      <td>55.5</td>\n",
       "      <td>133.7</td>\n",
       "      <td>178.2</td>\n",
       "      <td>167.6</td>\n",
       "      <td>175.7</td>\n",
       "      <td>188</td>\n",
       "      <td>199.2</td>\n",
       "      <td>211.2</td>\n",
       "      <td>221.8</td>\n",
       "      <td>230.6</td>\n",
       "    </tr>\n",
       "    <tr>\n",
       "      <th>19</th>\n",
       "      <td>EBT</td>\n",
       "      <td>7191.1</td>\n",
       "      <td>7844.6</td>\n",
       "      <td>8809.7</td>\n",
       "      <td>9539.4</td>\n",
       "      <td>10414.9</td>\n",
       "      <td>14091.32</td>\n",
       "      <td>17430.1352</td>\n",
       "      <td>21247.135072</td>\n",
       "      <td>25399.088579</td>\n",
       "      <td>29825.377551</td>\n",
       "    </tr>\n",
       "    <tr>\n",
       "      <th>20</th>\n",
       "      <td>Taxes</td>\n",
       "      <td>1869.7</td>\n",
       "      <td>2039.6</td>\n",
       "      <td>2290.5</td>\n",
       "      <td>2480.2</td>\n",
       "      <td>2707.9</td>\n",
       "      <td>3663.7432</td>\n",
       "      <td>4531.835152</td>\n",
       "      <td>5524.255119</td>\n",
       "      <td>6603.763031</td>\n",
       "      <td>7754.598163</td>\n",
       "    </tr>\n",
       "    <tr>\n",
       "      <th>21</th>\n",
       "      <td>Net Income Available to Common</td>\n",
       "      <td>5321.4</td>\n",
       "      <td>5805</td>\n",
       "      <td>6519.2</td>\n",
       "      <td>7059.2</td>\n",
       "      <td>7707.0</td>\n",
       "      <td>10427.5768</td>\n",
       "      <td>12898.300048</td>\n",
       "      <td>15722.879953</td>\n",
       "      <td>18795.325549</td>\n",
       "      <td>22070.779388</td>\n",
       "    </tr>\n",
       "    <tr>\n",
       "      <th>22</th>\n",
       "      <td>NaN</td>\n",
       "      <td>NaN</td>\n",
       "      <td>NaN</td>\n",
       "      <td>NaN</td>\n",
       "      <td>NaN</td>\n",
       "      <td>NaN</td>\n",
       "      <td>NaN</td>\n",
       "      <td>NaN</td>\n",
       "      <td>NaN</td>\n",
       "      <td>NaN</td>\n",
       "      <td>NaN</td>\n",
       "    </tr>\n",
       "    <tr>\n",
       "      <th>23</th>\n",
       "      <td>Cap Ex</td>\n",
       "      <td>490.1</td>\n",
       "      <td>556.6</td>\n",
       "      <td>514.7</td>\n",
       "      <td>641.4</td>\n",
       "      <td>715</td>\n",
       "      <td>717.2</td>\n",
       "      <td>760.2</td>\n",
       "      <td>805.9</td>\n",
       "      <td>846.2</td>\n",
       "      <td>880</td>\n",
       "    </tr>\n",
       "    <tr>\n",
       "      <th>24</th>\n",
       "      <td>FCFF</td>\n",
       "      <td>4831.3</td>\n",
       "      <td>5248.4</td>\n",
       "      <td>6004.5</td>\n",
       "      <td>6417.8</td>\n",
       "      <td>6992.0</td>\n",
       "      <td>9710.3768</td>\n",
       "      <td>12138.100048</td>\n",
       "      <td>14916.979953</td>\n",
       "      <td>17949.125549</td>\n",
       "      <td>21190.779388</td>\n",
       "    </tr>\n",
       "    <tr>\n",
       "      <th>25</th>\n",
       "      <td>Terminal FCFF</td>\n",
       "      <td>NaN</td>\n",
       "      <td>NaN</td>\n",
       "      <td>NaN</td>\n",
       "      <td>NaN</td>\n",
       "      <td>NaN</td>\n",
       "      <td>NaN</td>\n",
       "      <td>NaN</td>\n",
       "      <td>NaN</td>\n",
       "      <td>NaN</td>\n",
       "      <td>204637.851824</td>\n",
       "    </tr>\n",
       "    <tr>\n",
       "      <th>26</th>\n",
       "      <td>Total FCFF</td>\n",
       "      <td>4831.3</td>\n",
       "      <td>5248.4</td>\n",
       "      <td>6004.5</td>\n",
       "      <td>6417.8</td>\n",
       "      <td>6992.0</td>\n",
       "      <td>9710.3768</td>\n",
       "      <td>12138.100048</td>\n",
       "      <td>14916.979953</td>\n",
       "      <td>17949.125549</td>\n",
       "      <td>225828.631212</td>\n",
       "    </tr>\n",
       "    <tr>\n",
       "      <th>27</th>\n",
       "      <td>NaN</td>\n",
       "      <td>NaN</td>\n",
       "      <td>NaN</td>\n",
       "      <td>NaN</td>\n",
       "      <td>NaN</td>\n",
       "      <td>NaN</td>\n",
       "      <td>NaN</td>\n",
       "      <td>NaN</td>\n",
       "      <td>NaN</td>\n",
       "      <td>NaN</td>\n",
       "      <td>NaN</td>\n",
       "    </tr>\n",
       "    <tr>\n",
       "      <th>28</th>\n",
       "      <td>Enterpirse Value</td>\n",
       "      <td>119549.241185</td>\n",
       "      <td>NaN</td>\n",
       "      <td>NaN</td>\n",
       "      <td>NaN</td>\n",
       "      <td>NaN</td>\n",
       "      <td>NaN</td>\n",
       "      <td>NaN</td>\n",
       "      <td>NaN</td>\n",
       "      <td>NaN</td>\n",
       "      <td>NaN</td>\n",
       "    </tr>\n",
       "    <tr>\n",
       "      <th>29</th>\n",
       "      <td>Purchase Price</td>\n",
       "      <td>82000</td>\n",
       "      <td>NaN</td>\n",
       "      <td>NaN</td>\n",
       "      <td>NaN</td>\n",
       "      <td>NaN</td>\n",
       "      <td>NaN</td>\n",
       "      <td>NaN</td>\n",
       "      <td>NaN</td>\n",
       "      <td>NaN</td>\n",
       "      <td>NaN</td>\n",
       "    </tr>\n",
       "    <tr>\n",
       "      <th>30</th>\n",
       "      <td>Discount/Premium to Price</td>\n",
       "      <td>0.457918</td>\n",
       "      <td>NaN</td>\n",
       "      <td>NaN</td>\n",
       "      <td>NaN</td>\n",
       "      <td>NaN</td>\n",
       "      <td>NaN</td>\n",
       "      <td>NaN</td>\n",
       "      <td>NaN</td>\n",
       "      <td>NaN</td>\n",
       "      <td>NaN</td>\n",
       "    </tr>\n",
       "    <tr>\n",
       "      <th>31</th>\n",
       "      <td>NaN</td>\n",
       "      <td>NaN</td>\n",
       "      <td>NaN</td>\n",
       "      <td>NaN</td>\n",
       "      <td>NaN</td>\n",
       "      <td>NaN</td>\n",
       "      <td>NaN</td>\n",
       "      <td>NaN</td>\n",
       "      <td>NaN</td>\n",
       "      <td>NaN</td>\n",
       "      <td>NaN</td>\n",
       "    </tr>\n",
       "    <tr>\n",
       "      <th>32</th>\n",
       "      <td>Discount Rate</td>\n",
       "      <td>0.133558</td>\n",
       "      <td>NaN</td>\n",
       "      <td>NaN</td>\n",
       "      <td>NaN</td>\n",
       "      <td>NaN</td>\n",
       "      <td>NaN</td>\n",
       "      <td>NaN</td>\n",
       "      <td>NaN</td>\n",
       "      <td>NaN</td>\n",
       "      <td>NaN</td>\n",
       "    </tr>\n",
       "    <tr>\n",
       "      <th>33</th>\n",
       "      <td>Terminal Growth Rate</td>\n",
       "      <td>0.03</td>\n",
       "      <td>NaN</td>\n",
       "      <td>NaN</td>\n",
       "      <td>NaN</td>\n",
       "      <td>NaN</td>\n",
       "      <td>NaN</td>\n",
       "      <td>NaN</td>\n",
       "      <td>NaN</td>\n",
       "      <td>NaN</td>\n",
       "      <td>NaN</td>\n",
       "    </tr>\n",
       "    <tr>\n",
       "      <th>34</th>\n",
       "      <td>NaN</td>\n",
       "      <td>NaN</td>\n",
       "      <td>NaN</td>\n",
       "      <td>NaN</td>\n",
       "      <td>NaN</td>\n",
       "      <td>NaN</td>\n",
       "      <td>NaN</td>\n",
       "      <td>NaN</td>\n",
       "      <td>NaN</td>\n",
       "      <td>NaN</td>\n",
       "      <td>NaN</td>\n",
       "    </tr>\n",
       "    <tr>\n",
       "      <th>35</th>\n",
       "      <td>Plus: Taxes</td>\n",
       "      <td>1869.7</td>\n",
       "      <td>2039.6</td>\n",
       "      <td>2290.5</td>\n",
       "      <td>2480.2</td>\n",
       "      <td>2707.9</td>\n",
       "      <td>3663.7432</td>\n",
       "      <td>4531.835152</td>\n",
       "      <td>5524.255119</td>\n",
       "      <td>6603.763031</td>\n",
       "      <td>7754.598163</td>\n",
       "    </tr>\n",
       "    <tr>\n",
       "      <th>36</th>\n",
       "      <td>Plus: Interest Expense</td>\n",
       "      <td>55.5</td>\n",
       "      <td>133.7</td>\n",
       "      <td>178.2</td>\n",
       "      <td>167.6</td>\n",
       "      <td>175.7</td>\n",
       "      <td>188</td>\n",
       "      <td>199.2</td>\n",
       "      <td>211.2</td>\n",
       "      <td>221.8</td>\n",
       "      <td>230.6</td>\n",
       "    </tr>\n",
       "    <tr>\n",
       "      <th>37</th>\n",
       "      <td>Plus: Depreciation &amp; Amortization</td>\n",
       "      <td>455.1</td>\n",
       "      <td>593.7</td>\n",
       "      <td>593.9</td>\n",
       "      <td>641.4</td>\n",
       "      <td>670.3</td>\n",
       "      <td>717.2</td>\n",
       "      <td>760.2</td>\n",
       "      <td>805.9</td>\n",
       "      <td>846.2</td>\n",
       "      <td>880</td>\n",
       "    </tr>\n",
       "    <tr>\n",
       "      <th>38</th>\n",
       "      <td>EBITDA</td>\n",
       "      <td>7701.7</td>\n",
       "      <td>8572</td>\n",
       "      <td>9581.8</td>\n",
       "      <td>10348.4</td>\n",
       "      <td>11260.9</td>\n",
       "      <td>14996.52</td>\n",
       "      <td>18389.5352</td>\n",
       "      <td>22264.235072</td>\n",
       "      <td>26467.088579</td>\n",
       "      <td>30935.977551</td>\n",
       "    </tr>\n",
       "    <tr>\n",
       "      <th>39</th>\n",
       "      <td>EBITDA Margin</td>\n",
       "      <td>0.220001</td>\n",
       "      <td>0.231001</td>\n",
       "      <td>0.242</td>\n",
       "      <td>0.242002</td>\n",
       "      <td>0.252001</td>\n",
       "      <td>0.299641</td>\n",
       "      <td>0.331023</td>\n",
       "      <td>0.361054</td>\n",
       "      <td>0.390192</td>\n",
       "      <td>0.418417</td>\n",
       "    </tr>\n",
       "    <tr>\n",
       "      <th>40</th>\n",
       "      <td>NaN</td>\n",
       "      <td>NaN</td>\n",
       "      <td>NaN</td>\n",
       "      <td>NaN</td>\n",
       "      <td>NaN</td>\n",
       "      <td>NaN</td>\n",
       "      <td>NaN</td>\n",
       "      <td>NaN</td>\n",
       "      <td>NaN</td>\n",
       "      <td>NaN</td>\n",
       "      <td>NaN</td>\n",
       "    </tr>\n",
       "    <tr>\n",
       "      <th>41</th>\n",
       "      <td>Capital Expenditures</td>\n",
       "      <td>490.1</td>\n",
       "      <td>556.6</td>\n",
       "      <td>514.7</td>\n",
       "      <td>641.4</td>\n",
       "      <td>715</td>\n",
       "      <td>717.2</td>\n",
       "      <td>760.2</td>\n",
       "      <td>805.9</td>\n",
       "      <td>846.2</td>\n",
       "      <td>880</td>\n",
       "    </tr>\n",
       "    <tr>\n",
       "      <th>42</th>\n",
       "      <td>% of Revenue</td>\n",
       "      <td>0.014</td>\n",
       "      <td>0.014999</td>\n",
       "      <td>0.012999</td>\n",
       "      <td>0.014999</td>\n",
       "      <td>0.016001</td>\n",
       "      <td>0.01433</td>\n",
       "      <td>0.013684</td>\n",
       "      <td>0.013069</td>\n",
       "      <td>0.012475</td>\n",
       "      <td>0.011902</td>\n",
       "    </tr>\n",
       "    <tr>\n",
       "      <th>43</th>\n",
       "      <td>NaN</td>\n",
       "      <td>NaN</td>\n",
       "      <td>NaN</td>\n",
       "      <td>NaN</td>\n",
       "      <td>NaN</td>\n",
       "      <td>NaN</td>\n",
       "      <td>NaN</td>\n",
       "      <td>NaN</td>\n",
       "      <td>NaN</td>\n",
       "      <td>NaN</td>\n",
       "      <td>NaN</td>\n",
       "    </tr>\n",
       "    <tr>\n",
       "      <th>44</th>\n",
       "      <td>Net Working Capital</td>\n",
       "      <td>0</td>\n",
       "      <td>0</td>\n",
       "      <td>0</td>\n",
       "      <td>0</td>\n",
       "      <td>0</td>\n",
       "      <td>5505.3152</td>\n",
       "      <td>6110.899872</td>\n",
       "      <td>6783.098858</td>\n",
       "      <td>7461.408744</td>\n",
       "      <td>8132.935531</td>\n",
       "    </tr>\n",
       "    <tr>\n",
       "      <th>45</th>\n",
       "      <td>% of Revenue</td>\n",
       "      <td>0</td>\n",
       "      <td>0</td>\n",
       "      <td>0</td>\n",
       "      <td>0</td>\n",
       "      <td>0</td>\n",
       "      <td>0.11</td>\n",
       "      <td>0.11</td>\n",
       "      <td>0.11</td>\n",
       "      <td>0.11</td>\n",
       "      <td>0.11</td>\n",
       "    </tr>\n",
       "  </tbody>\n",
       "</table>\n",
       "</div>"
      ],
      "text/plain": [
       "                      $ in thousands USD           2020      2021      2022  \\\n",
       "0                                    NaN         Actual    Actual    Actual   \n",
       "1                                Revenue        35007.5     37108   39594.2   \n",
       "2                               % Growth          0.125  0.060001  0.066999   \n",
       "3                                   COGS        23104.9   24231.5   25379.9   \n",
       "4                                 COGS %       0.659999  0.652999     0.641   \n",
       "5                                    NaN            NaN       NaN       NaN   \n",
       "6                           Gross Profit        11902.6   12876.5   14214.3   \n",
       "7                           Gross Margin       0.340001  0.347001     0.359   \n",
       "8                                    NaN            NaN       NaN       NaN   \n",
       "9                      Operating Expense         4200.9    4304.5    4632.5   \n",
       "10             Op. Expenses % of Revenue           0.12  0.115999  0.116999   \n",
       "11                                   NaN            NaN       NaN       NaN   \n",
       "12           Depreciation & Amortization          455.1     593.7     593.9   \n",
       "13                          % of Revenue          0.013  0.015999     0.015   \n",
       "14                                   NaN            NaN       NaN       NaN   \n",
       "15               Operating Income (EBIT)         7246.6    7978.3    8987.9   \n",
       "16                      Operating Margin       0.207001  0.215002     0.227   \n",
       "17                                   NaN            NaN       NaN       NaN   \n",
       "18                 Interest Expense, Net           55.5     133.7     178.2   \n",
       "19                                   EBT         7191.1    7844.6    8809.7   \n",
       "20                                 Taxes         1869.7    2039.6    2290.5   \n",
       "21        Net Income Available to Common         5321.4      5805    6519.2   \n",
       "22                                   NaN            NaN       NaN       NaN   \n",
       "23                                Cap Ex          490.1     556.6     514.7   \n",
       "24                                  FCFF         4831.3    5248.4    6004.5   \n",
       "25                         Terminal FCFF            NaN       NaN       NaN   \n",
       "26                            Total FCFF         4831.3    5248.4    6004.5   \n",
       "27                                   NaN            NaN       NaN       NaN   \n",
       "28                      Enterpirse Value  119549.241185       NaN       NaN   \n",
       "29                        Purchase Price          82000       NaN       NaN   \n",
       "30             Discount/Premium to Price       0.457918       NaN       NaN   \n",
       "31                                   NaN            NaN       NaN       NaN   \n",
       "32                         Discount Rate       0.133558       NaN       NaN   \n",
       "33                  Terminal Growth Rate           0.03       NaN       NaN   \n",
       "34                                   NaN            NaN       NaN       NaN   \n",
       "35                           Plus: Taxes         1869.7    2039.6    2290.5   \n",
       "36                Plus: Interest Expense           55.5     133.7     178.2   \n",
       "37     Plus: Depreciation & Amortization          455.1     593.7     593.9   \n",
       "38                                EBITDA         7701.7      8572    9581.8   \n",
       "39                         EBITDA Margin       0.220001  0.231001     0.242   \n",
       "40                                   NaN            NaN       NaN       NaN   \n",
       "41                  Capital Expenditures          490.1     556.6     514.7   \n",
       "42                          % of Revenue          0.014  0.014999  0.012999   \n",
       "43                                   NaN            NaN       NaN       NaN   \n",
       "44                   Net Working Capital              0         0         0   \n",
       "45                          % of Revenue              0         0         0   \n",
       "\n",
       "        2023      2024        2025          2026          2027          2028  \\\n",
       "0     Actual    Actual   Projected     Projected     Projected     Projected   \n",
       "1    42761.7     44686    50048.32    55553.6352  61664.535072  67830.988579   \n",
       "2   0.079999  0.045001        0.12          0.11          0.11           0.1   \n",
       "3    27752.3   28777.8     31079.1       32943.8       34920.5       36666.5   \n",
       "4   0.648999     0.644    0.620982      0.593009      0.566298      0.540557   \n",
       "5        NaN       NaN         NaN           NaN           NaN           NaN   \n",
       "6    15009.4   15908.2    18969.22    22609.8352  26744.035072  31164.488579   \n",
       "7   0.351001     0.356        0.38          0.38          0.38          0.38   \n",
       "8        NaN       NaN         NaN           NaN           NaN           NaN   \n",
       "9       4661    4647.3      3972.7        4220.3        4479.8        4697.4   \n",
       "10  0.108999  0.103999    0.079377      0.075968      0.072648      0.069252   \n",
       "11       NaN       NaN         NaN           NaN           NaN           NaN   \n",
       "12     641.4     670.3       717.2         760.2         805.9         846.2   \n",
       "13  0.014999     0.015     0.01433      0.013684      0.013069      0.012475   \n",
       "14       NaN       NaN         NaN           NaN           NaN           NaN   \n",
       "15    9707.0   10590.6    14279.32    17629.3352  21458.335072  25620.888579   \n",
       "16  0.227002     0.237    0.285311      0.317339      0.347985      0.377717   \n",
       "17       NaN       NaN         NaN           NaN           NaN           NaN   \n",
       "18     167.6     175.7         188         199.2         211.2         221.8   \n",
       "19    9539.4   10414.9    14091.32    17430.1352  21247.135072  25399.088579   \n",
       "20    2480.2    2707.9   3663.7432   4531.835152   5524.255119   6603.763031   \n",
       "21    7059.2    7707.0  10427.5768  12898.300048  15722.879953  18795.325549   \n",
       "22       NaN       NaN         NaN           NaN           NaN           NaN   \n",
       "23     641.4       715       717.2         760.2         805.9         846.2   \n",
       "24    6417.8    6992.0   9710.3768  12138.100048  14916.979953  17949.125549   \n",
       "25       NaN       NaN         NaN           NaN           NaN           NaN   \n",
       "26    6417.8    6992.0   9710.3768  12138.100048  14916.979953  17949.125549   \n",
       "27       NaN       NaN         NaN           NaN           NaN           NaN   \n",
       "28       NaN       NaN         NaN           NaN           NaN           NaN   \n",
       "29       NaN       NaN         NaN           NaN           NaN           NaN   \n",
       "30       NaN       NaN         NaN           NaN           NaN           NaN   \n",
       "31       NaN       NaN         NaN           NaN           NaN           NaN   \n",
       "32       NaN       NaN         NaN           NaN           NaN           NaN   \n",
       "33       NaN       NaN         NaN           NaN           NaN           NaN   \n",
       "34       NaN       NaN         NaN           NaN           NaN           NaN   \n",
       "35    2480.2    2707.9   3663.7432   4531.835152   5524.255119   6603.763031   \n",
       "36     167.6     175.7         188         199.2         211.2         221.8   \n",
       "37     641.4     670.3       717.2         760.2         805.9         846.2   \n",
       "38   10348.4   11260.9    14996.52    18389.5352  22264.235072  26467.088579   \n",
       "39  0.242002  0.252001    0.299641      0.331023      0.361054      0.390192   \n",
       "40       NaN       NaN         NaN           NaN           NaN           NaN   \n",
       "41     641.4       715       717.2         760.2         805.9         846.2   \n",
       "42  0.014999  0.016001     0.01433      0.013684      0.013069      0.012475   \n",
       "43       NaN       NaN         NaN           NaN           NaN           NaN   \n",
       "44         0         0   5505.3152   6110.899872   6783.098858   7461.408744   \n",
       "45         0         0        0.11          0.11          0.11          0.11   \n",
       "\n",
       "             2029  \n",
       "0       Projected  \n",
       "1    73935.777551  \n",
       "2            0.09  \n",
       "3         38133.2  \n",
       "4        0.515761  \n",
       "5             NaN  \n",
       "6    35802.577551  \n",
       "7            0.38  \n",
       "8             NaN  \n",
       "9          4866.6  \n",
       "10       0.065822  \n",
       "11            NaN  \n",
       "12            880  \n",
       "13       0.011902  \n",
       "14            NaN  \n",
       "15   30055.977551  \n",
       "16       0.406515  \n",
       "17            NaN  \n",
       "18          230.6  \n",
       "19   29825.377551  \n",
       "20    7754.598163  \n",
       "21   22070.779388  \n",
       "22            NaN  \n",
       "23            880  \n",
       "24   21190.779388  \n",
       "25  204637.851824  \n",
       "26  225828.631212  \n",
       "27            NaN  \n",
       "28            NaN  \n",
       "29            NaN  \n",
       "30            NaN  \n",
       "31            NaN  \n",
       "32            NaN  \n",
       "33            NaN  \n",
       "34            NaN  \n",
       "35    7754.598163  \n",
       "36          230.6  \n",
       "37            880  \n",
       "38   30935.977551  \n",
       "39       0.418417  \n",
       "40            NaN  \n",
       "41            880  \n",
       "42       0.011902  \n",
       "43            NaN  \n",
       "44    8132.935531  \n",
       "45           0.11  "
      ]
     },
     "execution_count": 37,
     "metadata": {},
     "output_type": "execute_result"
    }
   ],
   "source": [
    "df1"
   ]
  },
  {
   "cell_type": "code",
   "execution_count": 36,
   "id": "e65e984e-d74c-4588-b77c-2f9440c9a1d1",
   "metadata": {},
   "outputs": [
    {
     "data": {
      "application/vnd.plotly.v1+json": {
       "config": {
        "plotlyServerURL": "https://plot.ly"
       },
       "data": [
        {
         "marker": {
          "size": [
           20,
           40,
           60,
           80,
           100,
           80,
           60,
           40,
           20,
           40
          ],
          "sizemin": 4,
          "sizemode": "area",
          "sizeref": 0.125
         },
         "mode": "markers",
         "type": "scatter",
         "x": [
          1,
          2,
          3,
          4,
          5,
          6,
          7,
          8,
          9,
          10
         ],
         "y": [
          11,
          12,
          10,
          11,
          12,
          11,
          12,
          13,
          12,
          11
         ]
        }
       ],
       "layout": {
        "autosize": true,
        "template": {
         "data": {
          "bar": [
           {
            "error_x": {
             "color": "#2a3f5f"
            },
            "error_y": {
             "color": "#2a3f5f"
            },
            "marker": {
             "line": {
              "color": "#E5ECF6",
              "width": 0.5
             },
             "pattern": {
              "fillmode": "overlay",
              "size": 10,
              "solidity": 0.2
             }
            },
            "type": "bar"
           }
          ],
          "barpolar": [
           {
            "marker": {
             "line": {
              "color": "#E5ECF6",
              "width": 0.5
             },
             "pattern": {
              "fillmode": "overlay",
              "size": 10,
              "solidity": 0.2
             }
            },
            "type": "barpolar"
           }
          ],
          "carpet": [
           {
            "aaxis": {
             "endlinecolor": "#2a3f5f",
             "gridcolor": "white",
             "linecolor": "white",
             "minorgridcolor": "white",
             "startlinecolor": "#2a3f5f"
            },
            "baxis": {
             "endlinecolor": "#2a3f5f",
             "gridcolor": "white",
             "linecolor": "white",
             "minorgridcolor": "white",
             "startlinecolor": "#2a3f5f"
            },
            "type": "carpet"
           }
          ],
          "choropleth": [
           {
            "colorbar": {
             "outlinewidth": 0,
             "ticks": ""
            },
            "type": "choropleth"
           }
          ],
          "contour": [
           {
            "colorbar": {
             "outlinewidth": 0,
             "ticks": ""
            },
            "colorscale": [
             [
              0,
              "#0d0887"
             ],
             [
              0.1111111111111111,
              "#46039f"
             ],
             [
              0.2222222222222222,
              "#7201a8"
             ],
             [
              0.3333333333333333,
              "#9c179e"
             ],
             [
              0.4444444444444444,
              "#bd3786"
             ],
             [
              0.5555555555555556,
              "#d8576b"
             ],
             [
              0.6666666666666666,
              "#ed7953"
             ],
             [
              0.7777777777777778,
              "#fb9f3a"
             ],
             [
              0.8888888888888888,
              "#fdca26"
             ],
             [
              1,
              "#f0f921"
             ]
            ],
            "type": "contour"
           }
          ],
          "contourcarpet": [
           {
            "colorbar": {
             "outlinewidth": 0,
             "ticks": ""
            },
            "type": "contourcarpet"
           }
          ],
          "heatmap": [
           {
            "colorbar": {
             "outlinewidth": 0,
             "ticks": ""
            },
            "colorscale": [
             [
              0,
              "#0d0887"
             ],
             [
              0.1111111111111111,
              "#46039f"
             ],
             [
              0.2222222222222222,
              "#7201a8"
             ],
             [
              0.3333333333333333,
              "#9c179e"
             ],
             [
              0.4444444444444444,
              "#bd3786"
             ],
             [
              0.5555555555555556,
              "#d8576b"
             ],
             [
              0.6666666666666666,
              "#ed7953"
             ],
             [
              0.7777777777777778,
              "#fb9f3a"
             ],
             [
              0.8888888888888888,
              "#fdca26"
             ],
             [
              1,
              "#f0f921"
             ]
            ],
            "type": "heatmap"
           }
          ],
          "heatmapgl": [
           {
            "colorbar": {
             "outlinewidth": 0,
             "ticks": ""
            },
            "colorscale": [
             [
              0,
              "#0d0887"
             ],
             [
              0.1111111111111111,
              "#46039f"
             ],
             [
              0.2222222222222222,
              "#7201a8"
             ],
             [
              0.3333333333333333,
              "#9c179e"
             ],
             [
              0.4444444444444444,
              "#bd3786"
             ],
             [
              0.5555555555555556,
              "#d8576b"
             ],
             [
              0.6666666666666666,
              "#ed7953"
             ],
             [
              0.7777777777777778,
              "#fb9f3a"
             ],
             [
              0.8888888888888888,
              "#fdca26"
             ],
             [
              1,
              "#f0f921"
             ]
            ],
            "type": "heatmapgl"
           }
          ],
          "histogram": [
           {
            "marker": {
             "pattern": {
              "fillmode": "overlay",
              "size": 10,
              "solidity": 0.2
             }
            },
            "type": "histogram"
           }
          ],
          "histogram2d": [
           {
            "colorbar": {
             "outlinewidth": 0,
             "ticks": ""
            },
            "colorscale": [
             [
              0,
              "#0d0887"
             ],
             [
              0.1111111111111111,
              "#46039f"
             ],
             [
              0.2222222222222222,
              "#7201a8"
             ],
             [
              0.3333333333333333,
              "#9c179e"
             ],
             [
              0.4444444444444444,
              "#bd3786"
             ],
             [
              0.5555555555555556,
              "#d8576b"
             ],
             [
              0.6666666666666666,
              "#ed7953"
             ],
             [
              0.7777777777777778,
              "#fb9f3a"
             ],
             [
              0.8888888888888888,
              "#fdca26"
             ],
             [
              1,
              "#f0f921"
             ]
            ],
            "type": "histogram2d"
           }
          ],
          "histogram2dcontour": [
           {
            "colorbar": {
             "outlinewidth": 0,
             "ticks": ""
            },
            "colorscale": [
             [
              0,
              "#0d0887"
             ],
             [
              0.1111111111111111,
              "#46039f"
             ],
             [
              0.2222222222222222,
              "#7201a8"
             ],
             [
              0.3333333333333333,
              "#9c179e"
             ],
             [
              0.4444444444444444,
              "#bd3786"
             ],
             [
              0.5555555555555556,
              "#d8576b"
             ],
             [
              0.6666666666666666,
              "#ed7953"
             ],
             [
              0.7777777777777778,
              "#fb9f3a"
             ],
             [
              0.8888888888888888,
              "#fdca26"
             ],
             [
              1,
              "#f0f921"
             ]
            ],
            "type": "histogram2dcontour"
           }
          ],
          "mesh3d": [
           {
            "colorbar": {
             "outlinewidth": 0,
             "ticks": ""
            },
            "type": "mesh3d"
           }
          ],
          "parcoords": [
           {
            "line": {
             "colorbar": {
              "outlinewidth": 0,
              "ticks": ""
             }
            },
            "type": "parcoords"
           }
          ],
          "pie": [
           {
            "automargin": true,
            "type": "pie"
           }
          ],
          "scatter": [
           {
            "fillpattern": {
             "fillmode": "overlay",
             "size": 10,
             "solidity": 0.2
            },
            "type": "scatter"
           }
          ],
          "scatter3d": [
           {
            "line": {
             "colorbar": {
              "outlinewidth": 0,
              "ticks": ""
             }
            },
            "marker": {
             "colorbar": {
              "outlinewidth": 0,
              "ticks": ""
             }
            },
            "type": "scatter3d"
           }
          ],
          "scattercarpet": [
           {
            "marker": {
             "colorbar": {
              "outlinewidth": 0,
              "ticks": ""
             }
            },
            "type": "scattercarpet"
           }
          ],
          "scattergeo": [
           {
            "marker": {
             "colorbar": {
              "outlinewidth": 0,
              "ticks": ""
             }
            },
            "type": "scattergeo"
           }
          ],
          "scattergl": [
           {
            "marker": {
             "colorbar": {
              "outlinewidth": 0,
              "ticks": ""
             }
            },
            "type": "scattergl"
           }
          ],
          "scattermapbox": [
           {
            "marker": {
             "colorbar": {
              "outlinewidth": 0,
              "ticks": ""
             }
            },
            "type": "scattermapbox"
           }
          ],
          "scatterpolar": [
           {
            "marker": {
             "colorbar": {
              "outlinewidth": 0,
              "ticks": ""
             }
            },
            "type": "scatterpolar"
           }
          ],
          "scatterpolargl": [
           {
            "marker": {
             "colorbar": {
              "outlinewidth": 0,
              "ticks": ""
             }
            },
            "type": "scatterpolargl"
           }
          ],
          "scatterternary": [
           {
            "marker": {
             "colorbar": {
              "outlinewidth": 0,
              "ticks": ""
             }
            },
            "type": "scatterternary"
           }
          ],
          "surface": [
           {
            "colorbar": {
             "outlinewidth": 0,
             "ticks": ""
            },
            "colorscale": [
             [
              0,
              "#0d0887"
             ],
             [
              0.1111111111111111,
              "#46039f"
             ],
             [
              0.2222222222222222,
              "#7201a8"
             ],
             [
              0.3333333333333333,
              "#9c179e"
             ],
             [
              0.4444444444444444,
              "#bd3786"
             ],
             [
              0.5555555555555556,
              "#d8576b"
             ],
             [
              0.6666666666666666,
              "#ed7953"
             ],
             [
              0.7777777777777778,
              "#fb9f3a"
             ],
             [
              0.8888888888888888,
              "#fdca26"
             ],
             [
              1,
              "#f0f921"
             ]
            ],
            "type": "surface"
           }
          ],
          "table": [
           {
            "cells": {
             "fill": {
              "color": "#EBF0F8"
             },
             "line": {
              "color": "white"
             }
            },
            "header": {
             "fill": {
              "color": "#C8D4E3"
             },
             "line": {
              "color": "white"
             }
            },
            "type": "table"
           }
          ]
         },
         "layout": {
          "annotationdefaults": {
           "arrowcolor": "#2a3f5f",
           "arrowhead": 0,
           "arrowwidth": 1
          },
          "autotypenumbers": "strict",
          "coloraxis": {
           "colorbar": {
            "outlinewidth": 0,
            "ticks": ""
           }
          },
          "colorscale": {
           "diverging": [
            [
             0,
             "#8e0152"
            ],
            [
             0.1,
             "#c51b7d"
            ],
            [
             0.2,
             "#de77ae"
            ],
            [
             0.3,
             "#f1b6da"
            ],
            [
             0.4,
             "#fde0ef"
            ],
            [
             0.5,
             "#f7f7f7"
            ],
            [
             0.6,
             "#e6f5d0"
            ],
            [
             0.7,
             "#b8e186"
            ],
            [
             0.8,
             "#7fbc41"
            ],
            [
             0.9,
             "#4d9221"
            ],
            [
             1,
             "#276419"
            ]
           ],
           "sequential": [
            [
             0,
             "#0d0887"
            ],
            [
             0.1111111111111111,
             "#46039f"
            ],
            [
             0.2222222222222222,
             "#7201a8"
            ],
            [
             0.3333333333333333,
             "#9c179e"
            ],
            [
             0.4444444444444444,
             "#bd3786"
            ],
            [
             0.5555555555555556,
             "#d8576b"
            ],
            [
             0.6666666666666666,
             "#ed7953"
            ],
            [
             0.7777777777777778,
             "#fb9f3a"
            ],
            [
             0.8888888888888888,
             "#fdca26"
            ],
            [
             1,
             "#f0f921"
            ]
           ],
           "sequentialminus": [
            [
             0,
             "#0d0887"
            ],
            [
             0.1111111111111111,
             "#46039f"
            ],
            [
             0.2222222222222222,
             "#7201a8"
            ],
            [
             0.3333333333333333,
             "#9c179e"
            ],
            [
             0.4444444444444444,
             "#bd3786"
            ],
            [
             0.5555555555555556,
             "#d8576b"
            ],
            [
             0.6666666666666666,
             "#ed7953"
            ],
            [
             0.7777777777777778,
             "#fb9f3a"
            ],
            [
             0.8888888888888888,
             "#fdca26"
            ],
            [
             1,
             "#f0f921"
            ]
           ]
          },
          "colorway": [
           "#636efa",
           "#EF553B",
           "#00cc96",
           "#ab63fa",
           "#FFA15A",
           "#19d3f3",
           "#FF6692",
           "#B6E880",
           "#FF97FF",
           "#FECB52"
          ],
          "font": {
           "color": "#2a3f5f"
          },
          "geo": {
           "bgcolor": "white",
           "lakecolor": "white",
           "landcolor": "#E5ECF6",
           "showlakes": true,
           "showland": true,
           "subunitcolor": "white"
          },
          "hoverlabel": {
           "align": "left"
          },
          "hovermode": "closest",
          "mapbox": {
           "style": "light"
          },
          "paper_bgcolor": "white",
          "plot_bgcolor": "#E5ECF6",
          "polar": {
           "angularaxis": {
            "gridcolor": "white",
            "linecolor": "white",
            "ticks": ""
           },
           "bgcolor": "#E5ECF6",
           "radialaxis": {
            "gridcolor": "white",
            "linecolor": "white",
            "ticks": ""
           }
          },
          "scene": {
           "xaxis": {
            "backgroundcolor": "#E5ECF6",
            "gridcolor": "white",
            "gridwidth": 2,
            "linecolor": "white",
            "showbackground": true,
            "ticks": "",
            "zerolinecolor": "white"
           },
           "yaxis": {
            "backgroundcolor": "#E5ECF6",
            "gridcolor": "white",
            "gridwidth": 2,
            "linecolor": "white",
            "showbackground": true,
            "ticks": "",
            "zerolinecolor": "white"
           },
           "zaxis": {
            "backgroundcolor": "#E5ECF6",
            "gridcolor": "white",
            "gridwidth": 2,
            "linecolor": "white",
            "showbackground": true,
            "ticks": "",
            "zerolinecolor": "white"
           }
          },
          "shapedefaults": {
           "line": {
            "color": "#2a3f5f"
           }
          },
          "ternary": {
           "aaxis": {
            "gridcolor": "white",
            "linecolor": "white",
            "ticks": ""
           },
           "baxis": {
            "gridcolor": "white",
            "linecolor": "white",
            "ticks": ""
           },
           "bgcolor": "#E5ECF6",
           "caxis": {
            "gridcolor": "white",
            "linecolor": "white",
            "ticks": ""
           }
          },
          "title": {
           "x": 0.05
          },
          "xaxis": {
           "automargin": true,
           "gridcolor": "white",
           "linecolor": "white",
           "ticks": "",
           "title": {
            "standoff": 15
           },
           "zerolinecolor": "white",
           "zerolinewidth": 2
          },
          "yaxis": {
           "automargin": true,
           "gridcolor": "white",
           "linecolor": "white",
           "ticks": "",
           "title": {
            "standoff": 15
           },
           "zerolinecolor": "white",
           "zerolinewidth": 2
          }
         }
        },
        "xaxis": {
         "autorange": true,
         "range": [
          0.37820522645195553,
          10.666277645433418
         ],
         "showspikes": false,
         "type": "linear"
        },
        "yaxis": {
         "autorange": true,
         "range": [
          9.395104003445217,
          13.531850872721284
         ],
         "showspikes": false,
         "type": "linear"
        }
       }
      },
      "image/png": "[encoded data removed]",
      "text/html": [
       "<div>                            <div id=\"e9077e8c-18e3-4006-8eff-1de40e30c63a\" class=\"plotly-graph-div\" style=\"height:525px; width:100%;\"></div>            <script type=\"text/javascript\">                require([\"plotly\"], function(Plotly) {                    window.PLOTLYENV=window.PLOTLYENV || {};                                    if (document.getElementById(\"e9077e8c-18e3-4006-8eff-1de40e30c63a\")) {                    Plotly.newPlot(                        \"e9077e8c-18e3-4006-8eff-1de40e30c63a\",                        [{\"marker\":{\"size\":[20,40,60,80,100,80,60,40,20,40],\"sizemin\":4,\"sizemode\":\"area\",\"sizeref\":0.125},\"mode\":\"markers\",\"x\":[1,2,3,4,5,6,7,8,9,10],\"y\":[11,12,10,11,12,11,12,13,12,11],\"type\":\"scatter\"}],                        {\"template\":{\"data\":{\"histogram2dcontour\":[{\"type\":\"histogram2dcontour\",\"colorbar\":{\"outlinewidth\":0,\"ticks\":\"\"},\"colorscale\":[[0.0,\"#0d0887\"],[0.1111111111111111,\"#46039f\"],[0.2222222222222222,\"#7201a8\"],[0.3333333333333333,\"#9c179e\"],[0.4444444444444444,\"#bd3786\"],[0.5555555555555556,\"#d8576b\"],[0.6666666666666666,\"#ed7953\"],[0.7777777777777778,\"#fb9f3a\"],[0.8888888888888888,\"#fdca26\"],[1.0,\"#f0f921\"]]}],\"choropleth\":[{\"type\":\"choropleth\",\"colorbar\":{\"outlinewidth\":0,\"ticks\":\"\"}}],\"histogram2d\":[{\"type\":\"histogram2d\",\"colorbar\":{\"outlinewidth\":0,\"ticks\":\"\"},\"colorscale\":[[0.0,\"#0d0887\"],[0.1111111111111111,\"#46039f\"],[0.2222222222222222,\"#7201a8\"],[0.3333333333333333,\"#9c179e\"],[0.4444444444444444,\"#bd3786\"],[0.5555555555555556,\"#d8576b\"],[0.6666666666666666,\"#ed7953\"],[0.7777777777777778,\"#fb9f3a\"],[0.8888888888888888,\"#fdca26\"],[1.0,\"#f0f921\"]]}],\"heatmap\":[{\"type\":\"heatmap\",\"colorbar\":{\"outlinewidth\":0,\"ticks\":\"\"},\"colorscale\":[[0.0,\"#0d0887\"],[0.1111111111111111,\"#46039f\"],[0.2222222222222222,\"#7201a8\"],[0.3333333333333333,\"#9c179e\"],[0.4444444444444444,\"#bd3786\"],[0.5555555555555556,\"#d8576b\"],[0.6666666666666666,\"#ed7953\"],[0.7777777777777778,\"#fb9f3a\"],[0.8888888888888888,\"#fdca26\"],[1.0,\"#f0f921\"]]}],\"heatmapgl\":[{\"type\":\"heatmapgl\",\"colorbar\":{\"outlinewidth\":0,\"ticks\":\"\"},\"colorscale\":[[0.0,\"#0d0887\"],[0.1111111111111111,\"#46039f\"],[0.2222222222222222,\"#7201a8\"],[0.3333333333333333,\"#9c179e\"],[0.4444444444444444,\"#bd3786\"],[0.5555555555555556,\"#d8576b\"],[0.6666666666666666,\"#ed7953\"],[0.7777777777777778,\"#fb9f3a\"],[0.8888888888888888,\"#fdca26\"],[1.0,\"#f0f921\"]]}],\"contourcarpet\":[{\"type\":\"contourcarpet\",\"colorbar\":{\"outlinewidth\":0,\"ticks\":\"\"}}],\"contour\":[{\"type\":\"contour\",\"colorbar\":{\"outlinewidth\":0,\"ticks\":\"\"},\"colorscale\":[[0.0,\"#0d0887\"],[0.1111111111111111,\"#46039f\"],[0.2222222222222222,\"#7201a8\"],[0.3333333333333333,\"#9c179e\"],[0.4444444444444444,\"#bd3786\"],[0.5555555555555556,\"#d8576b\"],[0.6666666666666666,\"#ed7953\"],[0.7777777777777778,\"#fb9f3a\"],[0.8888888888888888,\"#fdca26\"],[1.0,\"#f0f921\"]]}],\"surface\":[{\"type\":\"surface\",\"colorbar\":{\"outlinewidth\":0,\"ticks\":\"\"},\"colorscale\":[[0.0,\"#0d0887\"],[0.1111111111111111,\"#46039f\"],[0.2222222222222222,\"#7201a8\"],[0.3333333333333333,\"#9c179e\"],[0.4444444444444444,\"#bd3786\"],[0.5555555555555556,\"#d8576b\"],[0.6666666666666666,\"#ed7953\"],[0.7777777777777778,\"#fb9f3a\"],[0.8888888888888888,\"#fdca26\"],[1.0,\"#f0f921\"]]}],\"mesh3d\":[{\"type\":\"mesh3d\",\"colorbar\":{\"outlinewidth\":0,\"ticks\":\"\"}}],\"scatter\":[{\"fillpattern\":{\"fillmode\":\"overlay\",\"size\":10,\"solidity\":0.2},\"type\":\"scatter\"}],\"parcoords\":[{\"type\":\"parcoords\",\"line\":{\"colorbar\":{\"outlinewidth\":0,\"ticks\":\"\"}}}],\"scatterpolargl\":[{\"type\":\"scatterpolargl\",\"marker\":{\"colorbar\":{\"outlinewidth\":0,\"ticks\":\"\"}}}],\"bar\":[{\"error_x\":{\"color\":\"#2a3f5f\"},\"error_y\":{\"color\":\"#2a3f5f\"},\"marker\":{\"line\":{\"color\":\"#E5ECF6\",\"width\":0.5},\"pattern\":{\"fillmode\":\"overlay\",\"size\":10,\"solidity\":0.2}},\"type\":\"bar\"}],\"scattergeo\":[{\"type\":\"scattergeo\",\"marker\":{\"colorbar\":{\"outlinewidth\":0,\"ticks\":\"\"}}}],\"scatterpolar\":[{\"type\":\"scatterpolar\",\"marker\":{\"colorbar\":{\"outlinewidth\":0,\"ticks\":\"\"}}}],\"histogram\":[{\"marker\":{\"pattern\":{\"fillmode\":\"overlay\",\"size\":10,\"solidity\":0.2}},\"type\":\"histogram\"}],\"scattergl\":[{\"type\":\"scattergl\",\"marker\":{\"colorbar\":{\"outlinewidth\":0,\"ticks\":\"\"}}}],\"scatter3d\":[{\"type\":\"scatter3d\",\"line\":{\"colorbar\":{\"outlinewidth\":0,\"ticks\":\"\"}},\"marker\":{\"colorbar\":{\"outlinewidth\":0,\"ticks\":\"\"}}}],\"scattermapbox\":[{\"type\":\"scattermapbox\",\"marker\":{\"colorbar\":{\"outlinewidth\":0,\"ticks\":\"\"}}}],\"scatterternary\":[{\"type\":\"scatterternary\",\"marker\":{\"colorbar\":{\"outlinewidth\":0,\"ticks\":\"\"}}}],\"scattercarpet\":[{\"type\":\"scattercarpet\",\"marker\":{\"colorbar\":{\"outlinewidth\":0,\"ticks\":\"\"}}}],\"carpet\":[{\"aaxis\":{\"endlinecolor\":\"#2a3f5f\",\"gridcolor\":\"white\",\"linecolor\":\"white\",\"minorgridcolor\":\"white\",\"startlinecolor\":\"#2a3f5f\"},\"baxis\":{\"endlinecolor\":\"#2a3f5f\",\"gridcolor\":\"white\",\"linecolor\":\"white\",\"minorgridcolor\":\"white\",\"startlinecolor\":\"#2a3f5f\"},\"type\":\"carpet\"}],\"table\":[{\"cells\":{\"fill\":{\"color\":\"#EBF0F8\"},\"line\":{\"color\":\"white\"}},\"header\":{\"fill\":{\"color\":\"#C8D4E3\"},\"line\":{\"color\":\"white\"}},\"type\":\"table\"}],\"barpolar\":[{\"marker\":{\"line\":{\"color\":\"#E5ECF6\",\"width\":0.5},\"pattern\":{\"fillmode\":\"overlay\",\"size\":10,\"solidity\":0.2}},\"type\":\"barpolar\"}],\"pie\":[{\"automargin\":true,\"type\":\"pie\"}]},\"layout\":{\"autotypenumbers\":\"strict\",\"colorway\":[\"#636efa\",\"#EF553B\",\"#00cc96\",\"#ab63fa\",\"#FFA15A\",\"#19d3f3\",\"#FF6692\",\"#B6E880\",\"#FF97FF\",\"#FECB52\"],\"font\":{\"color\":\"#2a3f5f\"},\"hovermode\":\"closest\",\"hoverlabel\":{\"align\":\"left\"},\"paper_bgcolor\":\"white\",\"plot_bgcolor\":\"#E5ECF6\",\"polar\":{\"bgcolor\":\"#E5ECF6\",\"angularaxis\":{\"gridcolor\":\"white\",\"linecolor\":\"white\",\"ticks\":\"\"},\"radialaxis\":{\"gridcolor\":\"white\",\"linecolor\":\"white\",\"ticks\":\"\"}},\"ternary\":{\"bgcolor\":\"#E5ECF6\",\"aaxis\":{\"gridcolor\":\"white\",\"linecolor\":\"white\",\"ticks\":\"\"},\"baxis\":{\"gridcolor\":\"white\",\"linecolor\":\"white\",\"ticks\":\"\"},\"caxis\":{\"gridcolor\":\"white\",\"linecolor\":\"white\",\"ticks\":\"\"}},\"coloraxis\":{\"colorbar\":{\"outlinewidth\":0,\"ticks\":\"\"}},\"colorscale\":{\"sequential\":[[0.0,\"#0d0887\"],[0.1111111111111111,\"#46039f\"],[0.2222222222222222,\"#7201a8\"],[0.3333333333333333,\"#9c179e\"],[0.4444444444444444,\"#bd3786\"],[0.5555555555555556,\"#d8576b\"],[0.6666666666666666,\"#ed7953\"],[0.7777777777777778,\"#fb9f3a\"],[0.8888888888888888,\"#fdca26\"],[1.0,\"#f0f921\"]],\"sequentialminus\":[[0.0,\"#0d0887\"],[0.1111111111111111,\"#46039f\"],[0.2222222222222222,\"#7201a8\"],[0.3333333333333333,\"#9c179e\"],[0.4444444444444444,\"#bd3786\"],[0.5555555555555556,\"#d8576b\"],[0.6666666666666666,\"#ed7953\"],[0.7777777777777778,\"#fb9f3a\"],[0.8888888888888888,\"#fdca26\"],[1.0,\"#f0f921\"]],\"diverging\":[[0,\"#8e0152\"],[0.1,\"#c51b7d\"],[0.2,\"#de77ae\"],[0.3,\"#f1b6da\"],[0.4,\"#fde0ef\"],[0.5,\"#f7f7f7\"],[0.6,\"#e6f5d0\"],[0.7,\"#b8e186\"],[0.8,\"#7fbc41\"],[0.9,\"#4d9221\"],[1,\"#276419\"]]},\"xaxis\":{\"gridcolor\":\"white\",\"linecolor\":\"white\",\"ticks\":\"\",\"title\":{\"standoff\":15},\"zerolinecolor\":\"white\",\"automargin\":true,\"zerolinewidth\":2},\"yaxis\":{\"gridcolor\":\"white\",\"linecolor\":\"white\",\"ticks\":\"\",\"title\":{\"standoff\":15},\"zerolinecolor\":\"white\",\"automargin\":true,\"zerolinewidth\":2},\"scene\":{\"xaxis\":{\"backgroundcolor\":\"#E5ECF6\",\"gridcolor\":\"white\",\"linecolor\":\"white\",\"showbackground\":true,\"ticks\":\"\",\"zerolinecolor\":\"white\",\"gridwidth\":2},\"yaxis\":{\"backgroundcolor\":\"#E5ECF6\",\"gridcolor\":\"white\",\"linecolor\":\"white\",\"showbackground\":true,\"ticks\":\"\",\"zerolinecolor\":\"white\",\"gridwidth\":2},\"zaxis\":{\"backgroundcolor\":\"#E5ECF6\",\"gridcolor\":\"white\",\"linecolor\":\"white\",\"showbackground\":true,\"ticks\":\"\",\"zerolinecolor\":\"white\",\"gridwidth\":2}},\"shapedefaults\":{\"line\":{\"color\":\"#2a3f5f\"}},\"annotationdefaults\":{\"arrowcolor\":\"#2a3f5f\",\"arrowhead\":0,\"arrowwidth\":1},\"geo\":{\"bgcolor\":\"white\",\"landcolor\":\"#E5ECF6\",\"subunitcolor\":\"white\",\"showland\":true,\"showlakes\":true,\"lakecolor\":\"white\"},\"title\":{\"x\":0.05},\"mapbox\":{\"style\":\"light\"}}}},                        {\"responsive\": true}                    ).then(function(){\n",
       "                            \n",
       "var gd = document.getElementById('e9077e8c-18e3-4006-8eff-1de40e30c63a');\n",
       "var x = new MutationObserver(function (mutations, observer) {{\n",
       "        var display = window.getComputedStyle(gd).display;\n",
       "        if (!display || display === 'none') {{\n",
       "            console.log([gd, 'removed!']);\n",
       "            Plotly.purge(gd);\n",
       "            observer.disconnect();\n",
       "        }}\n",
       "}});\n",
       "\n",
       "// Listen for the removal of the full notebook cells\n",
       "var notebookContainer = gd.closest('#notebook-container');\n",
       "if (notebookContainer) {{\n",
       "    x.observe(notebookContainer, {childList: true});\n",
       "}}\n",
       "\n",
       "// Listen for the clearing of the current output cell\n",
       "var outputEl = gd.closest('.output');\n",
       "if (outputEl) {{\n",
       "    x.observe(outputEl, {childList: true});\n",
       "}}\n",
       "\n",
       "                        })                };                });            </script>        </div>"
      ]
     },
     "metadata": {},
     "output_type": "display_data"
    }
   ],
   "source": [
    "import plotly.graph_objects as go\n",
    "\n",
    "size = [20, 40, 60, 80, 100, 80, 60, 40, 20, 40]\n",
    "fig = go.Figure(data=[go.Scatter(\n",
    "    x=[1, 2, 3, 4, 5, 6, 7, 8, 9, 10],\n",
    "    y=[11, 12, 10, 11, 12, 11, 12, 13, 12, 11],\n",
    "    mode='markers',\n",
    "    marker=dict(\n",
    "        size=size,\n",
    "        sizemode='area',\n",
    "        sizeref=2.*max(size)/(40.**2),\n",
    "        sizemin=4\n",
    "    )\n",
    ")])\n",
    "\n",
    "fig.show()"
   ]
  },
  {
   "cell_type": "code",
   "execution_count": 39,
   "id": "dd2f2421-62e4-4b38-a31f-202ff0abce56",
   "metadata": {},
   "outputs": [
    {
     "name": "stdout",
     "output_type": "stream",
     "text": [
      "Defaulting to user installation because normal site-packages is not writeable\n",
      "Collecting voila\n",
      "  Downloading voila-0.5.8-py3-none-any.whl.metadata (9.5 kB)\n",
      "Requirement already satisfied: jupyter-client<9,>=7.4.4 in /Users/mf1128/Library/Python/3.9/lib/python/site-packages (from voila) (8.6.0)\n",
      "Requirement already satisfied: jupyter-core>=4.11.0 in /Users/mf1128/Library/Python/3.9/lib/python/site-packages (from voila) (5.5.0)\n",
      "Requirement already satisfied: jupyter-server<3,>=1.18 in /Users/mf1128/Library/Python/3.9/lib/python/site-packages (from voila) (2.11.1)\n",
      "Requirement already satisfied: jupyterlab-server<3,>=2.3.0 in /Users/mf1128/Library/Python/3.9/lib/python/site-packages (from voila) (2.25.2)\n",
      "Requirement already satisfied: nbclient>=0.4.0 in /Users/mf1128/Library/Python/3.9/lib/python/site-packages (from voila) (0.9.0)\n",
      "Requirement already satisfied: nbconvert<8,>=6.4.5 in /Users/mf1128/Library/Python/3.9/lib/python/site-packages (from voila) (7.11.0)\n",
      "Requirement already satisfied: traitlets<6,>=5.0.3 in /Users/mf1128/Library/Python/3.9/lib/python/site-packages (from voila) (5.14.0)\n",
      "Collecting websockets>=9.0 (from voila)\n",
      "  Downloading websockets-15.0-cp39-cp39-macosx_11_0_arm64.whl.metadata (6.8 kB)\n",
      "Requirement already satisfied: importlib-metadata>=4.8.3 in /Users/mf1128/Library/Python/3.9/lib/python/site-packages (from jupyter-client<9,>=7.4.4->voila) (7.0.0)\n",
      "Requirement already satisfied: python-dateutil>=2.8.2 in /Users/mf1128/Library/Python/3.9/lib/python/site-packages (from jupyter-client<9,>=7.4.4->voila) (2.8.2)\n",
      "Requirement already satisfied: pyzmq>=23.0 in /Users/mf1128/Library/Python/3.9/lib/python/site-packages (from jupyter-client<9,>=7.4.4->voila) (25.1.1)\n",
      "Requirement already satisfied: tornado>=6.2 in /Users/mf1128/Library/Python/3.9/lib/python/site-packages (from jupyter-client<9,>=7.4.4->voila) (6.4)\n",
      "Requirement already satisfied: platformdirs>=2.5 in /Users/mf1128/Library/Python/3.9/lib/python/site-packages (from jupyter-core>=4.11.0->voila) (4.1.0)\n",
      "Requirement already satisfied: anyio>=3.1.0 in /Users/mf1128/Library/Python/3.9/lib/python/site-packages (from jupyter-server<3,>=1.18->voila) (4.1.0)\n",
      "Requirement already satisfied: argon2-cffi in /Users/mf1128/Library/Python/3.9/lib/python/site-packages (from jupyter-server<3,>=1.18->voila) (23.1.0)\n",
      "Requirement already satisfied: jinja2 in /Users/mf1128/Library/Python/3.9/lib/python/site-packages (from jupyter-server<3,>=1.18->voila) (3.1.2)\n",
      "Requirement already satisfied: jupyter-events>=0.9.0 in /Users/mf1128/Library/Python/3.9/lib/python/site-packages (from jupyter-server<3,>=1.18->voila) (0.9.0)\n",
      "Requirement already satisfied: jupyter-server-terminals in /Users/mf1128/Library/Python/3.9/lib/python/site-packages (from jupyter-server<3,>=1.18->voila) (0.4.4)\n",
      "Requirement already satisfied: nbformat>=5.3.0 in /Users/mf1128/Library/Python/3.9/lib/python/site-packages (from jupyter-server<3,>=1.18->voila) (5.9.2)\n",
      "Requirement already satisfied: overrides in /Users/mf1128/Library/Python/3.9/lib/python/site-packages (from jupyter-server<3,>=1.18->voila) (7.4.0)\n",
      "Requirement already satisfied: packaging in /Users/mf1128/Library/Python/3.9/lib/python/site-packages (from jupyter-server<3,>=1.18->voila) (23.2)\n",
      "Requirement already satisfied: prometheus-client in /Users/mf1128/Library/Python/3.9/lib/python/site-packages (from jupyter-server<3,>=1.18->voila) (0.19.0)\n",
      "Requirement already satisfied: send2trash>=1.8.2 in /Users/mf1128/Library/Python/3.9/lib/python/site-packages (from jupyter-server<3,>=1.18->voila) (1.8.2)\n",
      "Requirement already satisfied: terminado>=0.8.3 in /Users/mf1128/Library/Python/3.9/lib/python/site-packages (from jupyter-server<3,>=1.18->voila) (0.18.0)\n",
      "Requirement already satisfied: websocket-client in /Users/mf1128/Library/Python/3.9/lib/python/site-packages (from jupyter-server<3,>=1.18->voila) (1.8.0)\n",
      "Requirement already satisfied: babel>=2.10 in /Users/mf1128/Library/Python/3.9/lib/python/site-packages (from jupyterlab-server<3,>=2.3.0->voila) (2.13.1)\n",
      "Requirement already satisfied: json5>=0.9.0 in /Users/mf1128/Library/Python/3.9/lib/python/site-packages (from jupyterlab-server<3,>=2.3.0->voila) (0.9.14)\n",
      "Requirement already satisfied: jsonschema>=4.18.0 in /Users/mf1128/Library/Python/3.9/lib/python/site-packages (from jupyterlab-server<3,>=2.3.0->voila) (4.20.0)\n",
      "Requirement already satisfied: requests>=2.31 in /Users/mf1128/Library/Python/3.9/lib/python/site-packages (from jupyterlab-server<3,>=2.3.0->voila) (2.31.0)\n",
      "Requirement already satisfied: beautifulsoup4 in /Users/mf1128/Library/Python/3.9/lib/python/site-packages (from nbconvert<8,>=6.4.5->voila) (4.12.2)\n",
      "Requirement already satisfied: bleach!=5.0.0 in /Users/mf1128/Library/Python/3.9/lib/python/site-packages (from nbconvert<8,>=6.4.5->voila) (6.1.0)\n",
      "Requirement already satisfied: defusedxml in /Users/mf1128/Library/Python/3.9/lib/python/site-packages (from nbconvert<8,>=6.4.5->voila) (0.7.1)\n",
      "Requirement already satisfied: jupyterlab-pygments in /Users/mf1128/Library/Python/3.9/lib/python/site-packages (from nbconvert<8,>=6.4.5->voila) (0.3.0)\n",
      "Requirement already satisfied: markupsafe>=2.0 in /Users/mf1128/Library/Python/3.9/lib/python/site-packages (from nbconvert<8,>=6.4.5->voila) (2.1.3)\n",
      "Requirement already satisfied: mistune<4,>=2.0.3 in /Users/mf1128/Library/Python/3.9/lib/python/site-packages (from nbconvert<8,>=6.4.5->voila) (3.0.2)\n",
      "Requirement already satisfied: pandocfilters>=1.4.1 in /Users/mf1128/Library/Python/3.9/lib/python/site-packages (from nbconvert<8,>=6.4.5->voila) (1.5.0)\n",
      "Requirement already satisfied: pygments>=2.4.1 in /Users/mf1128/Library/Python/3.9/lib/python/site-packages (from nbconvert<8,>=6.4.5->voila) (2.17.2)\n",
      "Requirement already satisfied: tinycss2 in /Users/mf1128/Library/Python/3.9/lib/python/site-packages (from nbconvert<8,>=6.4.5->voila) (1.2.1)\n",
      "Requirement already satisfied: idna>=2.8 in /Users/mf1128/Library/Python/3.9/lib/python/site-packages (from anyio>=3.1.0->jupyter-server<3,>=1.18->voila) (3.6)\n",
      "Requirement already satisfied: sniffio>=1.1 in /Users/mf1128/Library/Python/3.9/lib/python/site-packages (from anyio>=3.1.0->jupyter-server<3,>=1.18->voila) (1.3.0)\n",
      "Requirement already satisfied: exceptiongroup>=1.0.2 in /Users/mf1128/Library/Python/3.9/lib/python/site-packages (from anyio>=3.1.0->jupyter-server<3,>=1.18->voila) (1.2.0)\n",
      "Requirement already satisfied: six>=1.9.0 in /Applications/Xcode.app/Contents/Developer/Library/Frameworks/Python3.framework/Versions/3.9/lib/python3.9/site-packages (from bleach!=5.0.0->nbconvert<8,>=6.4.5->voila) (1.15.0)\n",
      "Requirement already satisfied: webencodings in /Users/mf1128/Library/Python/3.9/lib/python/site-packages (from bleach!=5.0.0->nbconvert<8,>=6.4.5->voila) (0.5.1)\n",
      "Requirement already satisfied: zipp>=0.5 in /Users/mf1128/Library/Python/3.9/lib/python/site-packages (from importlib-metadata>=4.8.3->jupyter-client<9,>=7.4.4->voila) (3.17.0)\n",
      "Requirement already satisfied: attrs>=22.2.0 in /Users/mf1128/Library/Python/3.9/lib/python/site-packages (from jsonschema>=4.18.0->jupyterlab-server<3,>=2.3.0->voila) (24.2.0)\n",
      "Requirement already satisfied: jsonschema-specifications>=2023.03.6 in /Users/mf1128/Library/Python/3.9/lib/python/site-packages (from jsonschema>=4.18.0->jupyterlab-server<3,>=2.3.0->voila) (2023.11.2)\n",
      "Requirement already satisfied: referencing>=0.28.4 in /Users/mf1128/Library/Python/3.9/lib/python/site-packages (from jsonschema>=4.18.0->jupyterlab-server<3,>=2.3.0->voila) (0.31.1)\n",
      "Requirement already satisfied: rpds-py>=0.7.1 in /Users/mf1128/Library/Python/3.9/lib/python/site-packages (from jsonschema>=4.18.0->jupyterlab-server<3,>=2.3.0->voila) (0.13.2)\n",
      "Requirement already satisfied: python-json-logger>=2.0.4 in /Users/mf1128/Library/Python/3.9/lib/python/site-packages (from jupyter-events>=0.9.0->jupyter-server<3,>=1.18->voila) (2.0.7)\n",
      "Requirement already satisfied: pyyaml>=5.3 in /Users/mf1128/Library/Python/3.9/lib/python/site-packages (from jupyter-events>=0.9.0->jupyter-server<3,>=1.18->voila) (6.0.1)\n",
      "Requirement already satisfied: rfc3339-validator in /Users/mf1128/Library/Python/3.9/lib/python/site-packages (from jupyter-events>=0.9.0->jupyter-server<3,>=1.18->voila) (0.1.4)\n",
      "Requirement already satisfied: rfc3986-validator>=0.1.1 in /Users/mf1128/Library/Python/3.9/lib/python/site-packages (from jupyter-events>=0.9.0->jupyter-server<3,>=1.18->voila) (0.1.1)\n",
      "Requirement already satisfied: fastjsonschema in /Users/mf1128/Library/Python/3.9/lib/python/site-packages (from nbformat>=5.3.0->jupyter-server<3,>=1.18->voila) (2.19.0)\n",
      "Requirement already satisfied: charset-normalizer<4,>=2 in /Users/mf1128/Library/Python/3.9/lib/python/site-packages (from requests>=2.31->jupyterlab-server<3,>=2.3.0->voila) (3.3.2)\n",
      "Requirement already satisfied: urllib3<3,>=1.21.1 in /Users/mf1128/Library/Python/3.9/lib/python/site-packages (from requests>=2.31->jupyterlab-server<3,>=2.3.0->voila) (1.26.18)\n",
      "Requirement already satisfied: certifi>=2017.4.17 in /Users/mf1128/Library/Python/3.9/lib/python/site-packages (from requests>=2.31->jupyterlab-server<3,>=2.3.0->voila) (2023.11.17)\n",
      "Requirement already satisfied: ptyprocess in /Users/mf1128/Library/Python/3.9/lib/python/site-packages (from terminado>=0.8.3->jupyter-server<3,>=1.18->voila) (0.7.0)\n",
      "Requirement already satisfied: argon2-cffi-bindings in /Users/mf1128/Library/Python/3.9/lib/python/site-packages (from argon2-cffi->jupyter-server<3,>=1.18->voila) (21.2.0)\n",
      "Requirement already satisfied: soupsieve>1.2 in /Users/mf1128/Library/Python/3.9/lib/python/site-packages (from beautifulsoup4->nbconvert<8,>=6.4.5->voila) (2.5)\n",
      "Requirement already satisfied: fqdn in /Users/mf1128/Library/Python/3.9/lib/python/site-packages (from jsonschema[format-nongpl]>=4.18.0->jupyter-events>=0.9.0->jupyter-server<3,>=1.18->voila) (1.5.1)\n",
      "Requirement already satisfied: isoduration in /Users/mf1128/Library/Python/3.9/lib/python/site-packages (from jsonschema[format-nongpl]>=4.18.0->jupyter-events>=0.9.0->jupyter-server<3,>=1.18->voila) (20.11.0)\n",
      "Requirement already satisfied: jsonpointer>1.13 in /Users/mf1128/Library/Python/3.9/lib/python/site-packages (from jsonschema[format-nongpl]>=4.18.0->jupyter-events>=0.9.0->jupyter-server<3,>=1.18->voila) (2.4)\n",
      "Requirement already satisfied: uri-template in /Users/mf1128/Library/Python/3.9/lib/python/site-packages (from jsonschema[format-nongpl]>=4.18.0->jupyter-events>=0.9.0->jupyter-server<3,>=1.18->voila) (1.3.0)\n",
      "Requirement already satisfied: webcolors>=1.11 in /Users/mf1128/Library/Python/3.9/lib/python/site-packages (from jsonschema[format-nongpl]>=4.18.0->jupyter-events>=0.9.0->jupyter-server<3,>=1.18->voila) (1.13)\n",
      "Requirement already satisfied: cffi>=1.0.1 in /Users/mf1128/Library/Python/3.9/lib/python/site-packages (from argon2-cffi-bindings->argon2-cffi->jupyter-server<3,>=1.18->voila) (1.16.0)\n",
      "Requirement already satisfied: pycparser in /Users/mf1128/Library/Python/3.9/lib/python/site-packages (from cffi>=1.0.1->argon2-cffi-bindings->argon2-cffi->jupyter-server<3,>=1.18->voila) (2.21)\n",
      "Requirement already satisfied: arrow>=0.15.0 in /Users/mf1128/Library/Python/3.9/lib/python/site-packages (from isoduration->jsonschema[format-nongpl]>=4.18.0->jupyter-events>=0.9.0->jupyter-server<3,>=1.18->voila) (1.3.0)\n",
      "Requirement already satisfied: types-python-dateutil>=2.8.10 in /Users/mf1128/Library/Python/3.9/lib/python/site-packages (from arrow>=0.15.0->isoduration->jsonschema[format-nongpl]>=4.18.0->jupyter-events>=0.9.0->jupyter-server<3,>=1.18->voila) (2.8.19.14)\n",
      "Downloading voila-0.5.8-py3-none-any.whl (4.5 MB)\n",
      "\u001b[2K   \u001b[90m━━━━━━━━━━━━━━━━━━━━━━━━━━━━━━━━━━━━━━━━\u001b[0m \u001b[32m4.5/4.5 MB\u001b[0m \u001b[31m28.9 MB/s\u001b[0m eta \u001b[36m0:00:00\u001b[0ma \u001b[36m0:00:01\u001b[0m\n",
      "\u001b[?25hDownloading websockets-15.0-cp39-cp39-macosx_11_0_arm64.whl (172 kB)\n",
      "Installing collected packages: websockets, voila\n",
      "Successfully installed voila-0.5.8 websockets-15.0\n",
      "\n",
      "\u001b[1m[\u001b[0m\u001b[34;49mnotice\u001b[0m\u001b[1;39;49m]\u001b[0m\u001b[39;49m A new release of pip is available: \u001b[0m\u001b[31;49m25.0\u001b[0m\u001b[39;49m -> \u001b[0m\u001b[32;49m25.0.1\u001b[0m\n",
      "\u001b[1m[\u001b[0m\u001b[34;49mnotice\u001b[0m\u001b[1;39;49m]\u001b[0m\u001b[39;49m To update, run: \u001b[0m\u001b[32;49m/Applications/Xcode.app/Contents/Developer/usr/bin/python3 -m pip install --upgrade pip\u001b[0m\n"
     ]
    }
   ],
   "source": [
    "!pip install voila"
   ]
  },
  {
   "cell_type": "code",
   "execution_count": 41,
   "id": "5c1e75c2-fd67-4bd2-b027-8605faf094b6",
   "metadata": {},
   "outputs": [
    {
     "ename": "SyntaxError",
     "evalue": "invalid syntax (1931002190.py, line 1)",
     "output_type": "error",
     "traceback": [
      "\u001b[0;36m  Cell \u001b[0;32mIn[41], line 1\u001b[0;36m\u001b[0m\n\u001b[0;31m    voila ma.ipynb\u001b[0m\n\u001b[0m          ^\u001b[0m\n\u001b[0;31mSyntaxError\u001b[0m\u001b[0;31m:\u001b[0m invalid syntax\n"
     ]
    }
   ],
   "source": [
    " voila ma.ipynb"
   ]
  }
 ],
 "metadata": {
  "kernelspec": {
   "display_name": "Python 3 (ipykernel)",
   "language": "python",
   "name": "python3"
  },
  "language_info": {
   "codemirror_mode": {
    "name": "ipython",
    "version": 3
   },
   "file_extension": ".py",
   "mimetype": "text/x-python",
   "name": "python",
   "nbconvert_exporter": "python",
   "pygments_lexer": "ipython3",
   "version": "3.9.6"
  }
 },
 "nbformat": 4,
 "nbformat_minor": 5
}
